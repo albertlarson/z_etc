{
 "cells": [
  {
   "cell_type": "code",
   "execution_count": 1,
   "metadata": {
    "colab": {
     "base_uri": "https://localhost:8080/"
    },
    "executionInfo": {
     "elapsed": 1378,
     "status": "ok",
     "timestamp": 1664827141906,
     "user": {
      "displayName": "Albert Larson",
      "userId": "12538127779129529926"
     },
     "user_tz": 240
    },
    "id": "_A8mUQBu2KWo",
    "outputId": "218518de-7fcb-43d1-b0ad-6f61a72f0bdc"
   },
   "outputs": [],
   "source": [
    "import pandas as pd\n",
    "\n",
    "##not using these lines, but you can if you want to use google drive. you would have to change the path of the xlsx files below, too.\n",
    "# from google.colab import drive\n",
    "\n",
    "# drive.mount('/content/drive')\n",
    "\n",
    "# put your files in the main folder of google drive for this to work"
   ]
  },
  {
   "cell_type": "code",
   "execution_count": 4,
   "metadata": {
    "colab": {
     "base_uri": "https://localhost:8080/"
    },
    "executionInfo": {
     "elapsed": 277,
     "status": "ok",
     "timestamp": 1664830600479,
     "user": {
      "displayName": "Albert Larson",
      "userId": "12538127779129529926"
     },
     "user_tz": 240
    },
    "id": "1LWy0ImX-oSn",
    "outputId": "e71e3f2a-1690-46ee-d504-ec07a38e5ba7"
   },
   "outputs": [
    {
     "name": "stdout",
     "output_type": "stream",
     "text": [
      "The driest year in Kingston was 1965\n",
      "28.198 inches or 71.624 cm fell \n",
      "\n",
      "The wettest year in Kingston was 1972\n",
      "65.429 inches or 166.19 cm fell \n",
      "\n",
      "The driest month by sum was June\n",
      "The wettest month by sum was November \n",
      "\n",
      "The driest month by avg was June\n",
      "The wettest month by avg was November\n"
     ]
    },
    {
     "name": "stderr",
     "output_type": "stream",
     "text": [
      "/work/albertl_uri_edu/.conda/envs/sm/lib/python3.9/site-packages/openpyxl/worksheet/_reader.py:312: UserWarning: Unknown extension is not supported and will be removed\n",
      "  warn(msg)\n"
     ]
    }
   ],
   "source": [
    "x = pd.read_excel('Kingston-Precipitation-1900-2014.xlsx')\n",
    "\n",
    "labels = ['Year',\n",
    "          'January', 'February', 'March', \n",
    "          'April', 'May','June',\n",
    "          'July','August','September',\n",
    "          'October','November','December']\n",
    "\n",
    "a = x[:-18] #removes metadata at end\n",
    "a1 = a / 2.54 #makes second table of precipitation as inches\n",
    "\n",
    "b = a.set_axis(labels, axis=1, inplace=False) #changes labels\n",
    "b['totals (cm)'] = b.loc[:,labels[1:]].sum(axis=1) #creates new column with yearly sums of precip\n",
    "\n",
    "b1 = a1.set_axis(labels, axis=1, inplace=False) #changes labels\n",
    "b1['totals (inches)'] = b1.loc[:,labels[1:]].sum(axis=1) #creates new column with yearly sums of precip\n",
    "\n",
    "print(f'The driest year in Kingston was',b['Year'][b['totals (cm)'].idxmin()])\n",
    "print(round(b1['totals (inches)'].min(),3),'inches or',round(b['totals (cm)'].min(),3),'cm fell \\n' )\n",
    "\n",
    "print(f'The wettest year in Kingston was',b['Year'][b1['totals (inches)'].idxmax()])\n",
    "print(round(b1['totals (inches)'].max(),3),'inches or',round(b['totals (cm)'].max(),3),'cm fell \\n' )\n",
    "\n",
    "\n",
    "#gets sum of each month for whatever 50 year period it is\n",
    "bymonthsum = [] \n",
    "for i in labels[1:]:\n",
    "    bymonthsum.append(b[i].sum())\n",
    "\n",
    "minmonth = min(bymonthsum)\n",
    "# print(bymonthsum.index(minmonth))\n",
    "print('The driest month by sum was',labels[1:][bymonthsum.index(minmonth)])\n",
    "\n",
    "maxmonth = max(bymonthsum)\n",
    "# print(bymonthsum.index(maxmonth))\n",
    "print('The wettest month by sum was', labels[1:][bymonthsum.index(maxmonth)],'\\n')\n",
    "\n",
    "\n",
    "#gets avg of each of the 12 months over 50 year period\n",
    "bymonthavg = []\n",
    "for i in labels[1:]:\n",
    "    bymonthavg.append(b[i].mean())\n",
    "\n",
    "minmonth = min(bymonthavg)\n",
    "# print(bymonthavg.index(minmonth))\n",
    "print('The driest month by avg was',labels[1:][bymonthavg.index(minmonth)])\n",
    "maxmonth = max(bymonthavg)\n",
    "# print(bymonthavg.index(maxmonth))\n",
    "print('The wettest month by avg was',labels[1:][bymonthavg.index(maxmonth)])"
   ]
  },
  {
   "cell_type": "code",
   "execution_count": 5,
   "metadata": {
    "colab": {
     "base_uri": "https://localhost:8080/",
     "height": 361
    },
    "executionInfo": {
     "elapsed": 670,
     "status": "ok",
     "timestamp": 1664830255631,
     "user": {
      "displayName": "Albert Larson",
      "userId": "12538127779129529926"
     },
     "user_tz": 240
    },
    "id": "xPTLMXw7ieze",
    "outputId": "71d3d6f1-57de-4f0e-e6be-3523996dad2d"
   },
   "outputs": [
    {
     "data": {
      "text/plain": [
       "[<matplotlib.lines.Line2D at 0x7f765e0c55e0>]"
      ]
     },
     "execution_count": 5,
     "metadata": {},
     "output_type": "execute_result"
    },
    {
     "data": {
      "image/png": "[encoded data removed]",
      "text/plain": [
       "<Figure size 1080x360 with 1 Axes>"
      ]
     },
     "metadata": {
      "needs_background": "light"
     },
     "output_type": "display_data"
    }
   ],
   "source": [
    "import matplotlib.pyplot as plt\n",
    "import numpy as np\n",
    "\n",
    "m, tercept = np.polyfit(np.float32(np.asarray(b['Year'])),np.float32(np.asarray(b1['totals (inches)'])),1)\n",
    "\n",
    "plt.figure(figsize = (15,5))\n",
    "plt.xlabel('year',fontsize=20)\n",
    "plt.ylabel('total precip\\n(inches)',rotation=0,labelpad=15,fontsize=20,verticalalignment='center',horizontalalignment='right')\n",
    "plt.scatter(b['Year'],b1['totals (inches)'],color='red')\n",
    "plt.plot(b['Year'],m*b['Year']+tercept)"
   ]
  },
  {
   "cell_type": "code",
   "execution_count": 6,
   "metadata": {
    "colab": {
     "base_uri": "https://localhost:8080/",
     "height": 382
    },
    "executionInfo": {
     "elapsed": 800,
     "status": "ok",
     "timestamp": 1664830288118,
     "user": {
      "displayName": "Albert Larson",
      "userId": "12538127779129529926"
     },
     "user_tz": 240
    },
    "id": "SK7rKCk3kLTd",
    "outputId": "c18e289b-fc0c-492a-e636-62125bf48a22"
   },
   "outputs": [
    {
     "data": {
      "text/plain": [
       "Text(0.5, 0, 'year')"
      ]
     },
     "execution_count": 6,
     "metadata": {},
     "output_type": "execute_result"
    },
    {
     "data": {
      "image/png": "[encoded data removed]",
      "text/plain": [
       "<Figure size 1080x360 with 1 Axes>"
      ]
     },
     "metadata": {
      "needs_background": "light"
     },
     "output_type": "display_data"
    }
   ],
   "source": [
    "plt.figure(figsize=(15,5))\n",
    "plt.bar(b['Year'],(b1['totals (inches)'] - b1['totals (inches)'].mean()))\n",
    "plt.title('precip anomaly',fontsize=20);\n",
    "plt.ylabel('deviation\\nfrom average\\n(inches)',rotation=0,labelpad=15,fontsize=20,verticalalignment='center',horizontalalignment='right')\n",
    "\n",
    "plt.xlabel('year',fontsize=20)"
   ]
  },
  {
   "cell_type": "code",
   "execution_count": 10,
   "metadata": {
    "colab": {
     "base_uri": "https://localhost:8080/"
    },
    "executionInfo": {
     "elapsed": 118,
     "status": "ok",
     "timestamp": 1664830546001,
     "user": {
      "displayName": "Albert Larson",
      "userId": "12538127779129529926"
     },
     "user_tz": 240
    },
    "id": "TYND_Wh5PP8G",
    "outputId": "0bb1e77f-c789-4528-b675-523cf2c7f6ce"
   },
   "outputs": [
    {
     "name": "stdout",
     "output_type": "stream",
     "text": [
      "The coolest year in Kingston was 1965\n",
      "The average temp was 9.51 celsius or 49.13 fahrenheit \n",
      "\n",
      "The warmest year in Kingston was 2012\n",
      "The average temp was 12.42 celsius or 54.36 fahrenheit \n",
      "\n",
      "The coolest month by sum is February\n",
      "The warmest month by sum is August \n",
      "\n",
      "The coolest month by avg is February\n",
      "The warmest month by avg is August\n"
     ]
    },
    {
     "name": "stderr",
     "output_type": "stream",
     "text": [
      "/work/albertl_uri_edu/.conda/envs/sm/lib/python3.9/site-packages/openpyxl/worksheet/_reader.py:312: UserWarning: Unknown extension is not supported and will be removed\n",
      "  warn(msg)\n"
     ]
    }
   ],
   "source": [
    "y = pd.read_excel('Kingston-Temperature-1948-2018.xlsx')\n",
    "\n",
    "y.head()\n",
    "\n",
    "labels = ['Year',\n",
    "          'January', 'February', 'March', \n",
    "          'April', 'May','June',\n",
    "          'July','August','September',\n",
    "          'October','November','December']\n",
    "\n",
    "a = y[:-9]\n",
    "a1 = a * (9/5) + 32\n",
    "\n",
    "b = a.set_axis(labels, axis=1, inplace=False)\n",
    "b['avg (°C)'] = b.loc[:,labels[1:]].mean(axis=1)\n",
    "\n",
    "b1 = a1.set_axis(labels, axis=1, inplace=False)\n",
    "b1['avg (°F)'] = b1.loc[:,labels[1:]].mean(axis=1)\n",
    "\n",
    "\n",
    "print(f'The coolest year in Kingston was',b['Year'][b['avg (°C)'].idxmin()])\n",
    "print(f'The average temp was',np.around(b['avg (°C)'].min(),2),'celsius or',np.around(b1['avg (°F)'].min(),2),'fahrenheit \\n' )\n",
    "\n",
    "print(f'The warmest year in Kingston was',b['Year'][b['avg (°C)'].idxmax()])\n",
    "print(f'The average temp was',np.around(b['avg (°C)'].max(),2),'celsius or',np.around(b1['avg (°F)'].max(),2),'fahrenheit \\n' )\n",
    "\n",
    "\n",
    "bymonthsum = []\n",
    "for i in labels[1:]:\n",
    "    bymonthsum.append(b[i].sum())\n",
    "\n",
    "minmonth = min(bymonthsum)\n",
    "# print(bymonthsum.index(minmonth))\n",
    "print('The coolest month by sum is',labels[1:][bymonthsum.index(minmonth)])\n",
    "\n",
    "maxmonth = max(bymonthsum)\n",
    "# print(bymonthsum.index(maxmonth))\n",
    "print('The warmest month by sum is', labels[1:][bymonthsum.index(maxmonth)],'\\n')\n",
    "\n",
    "bymonthavg = []\n",
    "for i in labels[1:]:\n",
    "    bymonthavg.append(b[i].mean())\n",
    "\n",
    "minmonth = min(bymonthavg)\n",
    "# print(bymonthavg.index(minmonth))\n",
    "print('The coolest month by avg is',labels[1:][bymonthavg.index(minmonth)])\n",
    "maxmonth = max(bymonthavg)\n",
    "# print(bymonthavg.index(maxmonth))\n",
    "print('The warmest month by avg is',labels[1:][bymonthavg.index(maxmonth)])\n"
   ]
  }
 ],
 "metadata": {
  "colab": {
   "authorship_tag": "ABX9TyORQTGNqT/+odHLfJJRaP2O",
   "provenance": []
  },
  "kernelspec": {
   "display_name": "Python (.conda-sm)",
   "language": "python",
   "name": "conda-env-.conda-sm-py"
  },
  "language_info": {
   "codemirror_mode": {
    "name": "ipython",
    "version": 3
   },
   "file_extension": ".py",
   "mimetype": "text/x-python",
   "name": "python",
   "nbconvert_exporter": "python",
   "pygments_lexer": "ipython3",
   "version": "3.9.13"
  }
 },
 "nbformat": 4,
 "nbformat_minor": 4
}
