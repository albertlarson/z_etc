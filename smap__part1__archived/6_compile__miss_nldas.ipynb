{
 "cells": [
  {
   "cell_type": "code",
   "execution_count": 1,
   "id": "ec7eadee-387a-4c44-83c5-10b38fb81a85",
   "metadata": {},
   "outputs": [],
   "source": [
    "import glob"
   ]
  },
  {
   "cell_type": "code",
   "execution_count": 2,
   "id": "39be1576-4dff-4aeb-ac37-866cfca6de4b",
   "metadata": {},
   "outputs": [
    {
     "data": {
      "text/plain": [
       "'/work/albertl_uri_edu/fluxtoflow/nldas'"
      ]
     },
     "execution_count": 2,
     "metadata": {},
     "output_type": "execute_result"
    }
   ],
   "source": [
    "pwd"
   ]
  },
  {
   "cell_type": "code",
   "execution_count": 22,
   "id": "c2107b52-c49c-412a-8b37-289adb7ac771",
   "metadata": {},
   "outputs": [],
   "source": [
    "x = glob.glob('clipped/*.nc')"
   ]
  },
  {
   "cell_type": "code",
   "execution_count": 4,
   "id": "0fe02e30-a4af-43fb-aab2-079abc1eeb41",
   "metadata": {},
   "outputs": [
    {
     "data": {
      "text/plain": [
       "2617"
      ]
     },
     "execution_count": 4,
     "metadata": {},
     "output_type": "execute_result"
    }
   ],
   "source": [
    "len(x)"
   ]
  },
  {
   "cell_type": "code",
   "execution_count": 5,
   "id": "8e1edf58-be27-4e29-9816-cde82f52808d",
   "metadata": {},
   "outputs": [],
   "source": [
    "import os"
   ]
  },
  {
   "cell_type": "code",
   "execution_count": 10,
   "id": "0718e157-a159-44f7-8798-22ea8172e7b9",
   "metadata": {},
   "outputs": [],
   "source": [
    "import numpy as np"
   ]
  },
  {
   "cell_type": "code",
   "execution_count": 23,
   "id": "26ae24ec-82df-422f-85ca-29fb89f648b3",
   "metadata": {},
   "outputs": [
    {
     "data": {
      "text/plain": [
       "(2617,)"
      ]
     },
     "execution_count": 23,
     "metadata": {},
     "output_type": "execute_result"
    }
   ],
   "source": [
    "y = np.asarray([os.path.getsize(i)*1e-6 for i in x]) #megabytes\n",
    "y.shape"
   ]
  },
  {
   "cell_type": "code",
   "execution_count": 12,
   "id": "de94a06d-a46e-41e0-8e57-feaed2ad6aba",
   "metadata": {},
   "outputs": [],
   "source": [
    "import matplotlib.pyplot as plt"
   ]
  },
  {
   "cell_type": "code",
   "execution_count": 24,
   "id": "126a7e5a-2189-4e82-8e0e-03dd61b22e7c",
   "metadata": {},
   "outputs": [
    {
     "name": "stdout",
     "output_type": "stream",
     "text": [
      "mean: 0.40222499999999994\n",
      "max: 0.402225\n",
      "min: 0.402225\n",
      "sum: 1052.622825\n"
     ]
    }
   ],
   "source": [
    "print(f'mean: {np.mean(y)}\\n'\n",
    "      f'max: {np.max(y)}\\n'\n",
    "      f'min: {np.min(y)}\\n'\n",
    "      f'sum: {np.sum(y)}'\n",
    "     )\n",
    "\n",
    "\n",
    "#strange that the numbers cut off differently."
   ]
  },
  {
   "cell_type": "code",
   "execution_count": 21,
   "id": "64759513-8add-4fef-bae7-26079bba8022",
   "metadata": {},
   "outputs": [
    {
     "data": {
      "text/plain": [
       "1046.8"
      ]
     },
     "execution_count": 21,
     "metadata": {},
     "output_type": "execute_result"
    }
   ],
   "source": [
    ".4 * 2617"
   ]
  },
  {
   "cell_type": "code",
   "execution_count": 26,
   "id": "cc5a667e-5994-48ba-9ca1-e2e49049beb1",
   "metadata": {},
   "outputs": [
    {
     "name": "stderr",
     "output_type": "stream",
     "text": [
      "/work/albertl_uri_edu/.conda/envs/sm/lib/python3.9/site-packages/xarray/backends/cfgrib_.py:27: UserWarning: Failed to load cfgrib - most likely there is a problem accessing the ecCodes library. Try `import cfgrib` to get the full error message\n",
      "  warnings.warn(\n"
     ]
    }
   ],
   "source": [
    "import xarray as xr"
   ]
  },
  {
   "cell_type": "code",
   "execution_count": 36,
   "id": "7f7534d6-4310-4e9a-95dc-8f99584d78a2",
   "metadata": {},
   "outputs": [
    {
     "name": "stdout",
     "output_type": "stream",
     "text": [
      "torch.Size([2617, 2, 167, 288])\n"
     ]
    }
   ],
   "source": [
    "import torch\n",
    "\n",
    "def nc2torch(i):\n",
    "    return torch.from_numpy(np.asarray(i)).unsqueeze(0)\n",
    "\n",
    "xx = xr.open_dataset(x[0])\n",
    "\n",
    "x = glob.glob('clipped/*.nc')\n",
    "dset = torch.empty([0,2,xx.Qs_summed.shape[0],xx.Qs_summed.shape[1]])\n",
    "\n",
    "for i in sorted(x):\n",
    "    j = xr.open_dataset(i)\n",
    "    z0 = nc2torch(j.Qs_summed)\n",
    "    z1 = nc2torch(j.Qsb_summed)\n",
    "    z2 = torch.cat((z0,z1),axis=0).unsqueeze(0)\n",
    "    dset = torch.cat((dset,z2),axis=0)\n",
    "print(dset.shape)\n"
   ]
  },
  {
   "cell_type": "code",
   "execution_count": 37,
   "id": "12062d5e-55f6-4bed-884c-c456e994bffa",
   "metadata": {},
   "outputs": [],
   "source": [
    "torch.save(dset,'nldas_ms.pt')"
   ]
  },
  {
   "cell_type": "code",
   "execution_count": 31,
   "id": "84d44ead-baff-412c-9fa7-1e3238719151",
   "metadata": {},
   "outputs": [
    {
     "data": {
      "text/plain": [
       "torch.Size([2, 167, 288])"
      ]
     },
     "execution_count": 31,
     "metadata": {},
     "output_type": "execute_result"
    }
   ],
   "source": [
    "z0 = xr.open_dataset(x[0])\n",
    "z1 = nc2torch(z0.Qs_summed)\n",
    "z2 = nc2torch(z0.Qsb_summed)\n",
    "# z1.shape\n",
    "z3 = torch.cat((z1,z2),axis=0)\n",
    "z3.shape"
   ]
  },
  {
   "cell_type": "code",
   "execution_count": 70,
   "id": "02901361-0843-4093-9cc7-b55cfac8545e",
   "metadata": {},
   "outputs": [
    {
     "name": "stdout",
     "output_type": "stream",
     "text": [
      "number of lines in text file (2647,)\n",
      "(2617,)\n",
      "USGS\t07374000\t2015-01-01\t345000\tA\n",
      "\n"
     ]
    }
   ],
   "source": [
    "y = []\n",
    "with open('ms_streamflow_010115__030122.txt','r') as f:\n",
    "    for x in f:\n",
    "        y.append(x)\n",
    "y = np.asarray(y)\n",
    "print('number of lines in text file',y.shape)\n",
    "\n",
    "streamflows = y[30:] #gets rid of meta data \n",
    "print(streamflows.shape)\n",
    "print(streamflows[0])\n",
    "\n",
    "## removes tabs, splits words into chunks\n",
    "z = []\n",
    "for idx,x in enumerate(streamflows):\n",
    "    y = x.split('\\t')\n",
    "    z.append(y)\n",
    "z = np.asarray(z)\n",
    "\n",
    "\n",
    "#creates table with labels\n",
    "a = np.expand_dims(np.asarray(['Gov Ent','Gage ID','Acq Date','cubic ft/s','unknown']),0)\n",
    "b = np.vstack((a,z))\n",
    "# b = b[:-5] #gets rid of dates we don't want\n",
    "# print(b[1],'\\n',b[-1])\n",
    "\n",
    "#takes column 4 only (discharge) and replaces numbers that aren't integers with dummy number.\n",
    "cfs = b[1:,3]\n",
    "d = np.empty((0))\n",
    "for x in cfs:\n",
    "    try:\n",
    "        d = np.append(d,int(x))\n",
    "    except:\n",
    "        print('+1 empty, replaced with -12345678')\n",
    "        d = np.append(d,-12345678)\n",
    "\n",
    "#grabs date column        \n",
    "dte = b[1:,2]\n",
    "\n",
    "##turns cubic feet per second to tensor for training with larsonet.\n",
    "cfs0 = torch.from_numpy(np.float32(cfs)).unsqueeze(1).unsqueeze(1).unsqueeze(1)\n",
    "torch.save(cfs0,'ms_cfs.pt')\n",
    "np.save('ms_dte.npy',dte)"
   ]
  },
  {
   "cell_type": "code",
   "execution_count": 71,
   "id": "e68599ca-ab77-4a24-9bab-8b5b5b257761",
   "metadata": {},
   "outputs": [],
   "source": [
    "type(cfs[0])\n",
    "\n",
    "cfs0 = torch.from_numpy(np.float32(cfs)).unsqueeze(1).unsqueeze(1).unsqueeze(1)\n",
    "torch.save(cfs0,'ms_cfs.pt')\n",
    "np.save('ms_dte.npy',dte)\n",
    "\n",
    "\n",
    "###### can't do this, pytorch doesn't like date/times \n",
    "###### dte0 = np.float32(dte)"
   ]
  },
  {
   "cell_type": "code",
   "execution_count": 44,
   "id": "8e4a5537-05a9-4863-91ff-14161d7f8e40",
   "metadata": {},
   "outputs": [
    {
     "name": "stdout",
     "output_type": "stream",
     "text": [
      "clipped/NLDAS_VIC0125_H.A20150101_ms_clipped.nc\n",
      "clipped/NLDAS_VIC0125_H.A20220301_ms_clipped.nc\n",
      "2617\n"
     ]
    }
   ],
   "source": [
    "x = glob.glob('clipped/*.nc')\n",
    "print(x[0])\n",
    "print(x[-1])\n",
    "print(len(x))"
   ]
  },
  {
   "cell_type": "code",
   "execution_count": null,
   "id": "d96bc6df-36b2-4503-b183-5c24efc67c43",
   "metadata": {},
   "outputs": [],
   "source": []
  }
 ],
 "metadata": {
  "kernelspec": {
   "display_name": "Python (.conda-sm)",
   "language": "python",
   "name": "conda-env-.conda-sm-py"
  },
  "language_info": {
   "codemirror_mode": {
    "name": "ipython",
    "version": 3
   },
   "file_extension": ".py",
   "mimetype": "text/x-python",
   "name": "python",
   "nbconvert_exporter": "python",
   "pygments_lexer": "ipython3",
   "version": "3.9.12"
  }
 },
 "nbformat": 4,
 "nbformat_minor": 5
}
