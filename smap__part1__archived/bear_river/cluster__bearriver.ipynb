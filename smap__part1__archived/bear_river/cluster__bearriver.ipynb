{
 "cells": [
  {
   "cell_type": "code",
   "execution_count": 43,
   "id": "front-turkish",
   "metadata": {},
   "outputs": [],
   "source": [
    "# import rasterio as rs\n",
    "import xarray as xr\n",
    "import numpy as np\n",
    "# import cartopy.crs as ccrs\n",
    "# import cartopy\n",
    "import matplotlib.pyplot as plt\n",
    "# import urllib\n",
    "import glob\n",
    "# import shutil\n",
    "import geopandas\n",
    "# import shapely\n",
    "import rioxarray\n",
    "from shapely.geometry import mapping\n",
    "# import torch\n",
    "# import time\n",
    "import shutil"
   ]
  },
  {
   "cell_type": "code",
   "execution_count": 5,
   "id": "concerned-coffee",
   "metadata": {},
   "outputs": [],
   "source": [
    "import os\n",
    "os.mkdir('hi')"
   ]
  },
  {
   "cell_type": "code",
   "execution_count": 2,
   "id": "fatal-pattern",
   "metadata": {},
   "outputs": [],
   "source": [
    "import zipfile\n",
    "\n",
    "#      https://bearriverinfo.org/files-ou/dataset-downloads/brfromhuc12.zip\n",
    "#      shapefile source\n",
    "\n",
    "with zipfile.ZipFile('/home/albertl_uri_edu/scratch/bear_river/brfromhuc12.zip','r') as brshp:\n",
    "    brshp.extractall('/home/albertl_uri_edu/scratch/bear_river/bearrivshp')"
   ]
  },
  {
   "cell_type": "code",
   "execution_count": 16,
   "id": "dietary-daisy",
   "metadata": {},
   "outputs": [],
   "source": [
    "def clip2(raster,basin,basinname):\n",
    "    rast = rioxarray.open_rasterio(raster,engine=\"rasterio\")\n",
    "    r_clip = rast.rio.clip(basin.geometry.apply(mapping),basin.crs)\n",
    "    r_clip_nonans = np.where(r_clip[0]<0,np.nan,r_clip[0])\n",
    "    # plt.imshow(r_clip_nonans)\n",
    "    r_clip.to_netcdf(f'{basinname}_ssm/{basinname}_{raster[48:65]}.nc')\n",
    "    r_clip_meta = xr.open_dataset(f'{basinname}_ssm/{basinname}_{raster[48:65]}.nc')\n",
    "    r_clip_meta = r_clip_meta.rename({'__xarray_dataarray_variable__':'ssm'})\n",
    "    #keep it to single lines for attributes\n",
    "    r_clip_meta.attrs = {}\n",
    "    r_clip_meta.attrs['surface_soil_moisture'] = \"surface soil moisture\" \n",
    "    r_clip_meta.attrs['ssm_units'] = \"mm\"\n",
    "    r_clip_meta.attrs['ssm_source'] = \"https://developers.google.com/earth-engine/datasets/catalog/NASA_USDA_HSL_SMAP10KM_soil_moisture#citations\"\n",
    "    r_clip_meta.to_netcdf(f'{basinname}_ssm/metadata/{basinname}_{raster[48:65]}.nc')\n",
    "    return r_clip,r_clip_nonans"
   ]
  },
  {
   "cell_type": "code",
   "execution_count": 50,
   "id": "lonely-dressing",
   "metadata": {},
   "outputs": [],
   "source": [
    "### invokes the function\n",
    "###\n",
    "### \n",
    "### \n",
    "### relatively slower because of more interations\n",
    "\n",
    "\n",
    "basinname = 'bear_river'\n",
    "os.mkdir(f'{basinname}_ssm')\n",
    "os.mkdir(f'{basinname}_ssm/metadata')\n",
    "basin = geopandas.read_file('/home/albertl_uri_edu/scratch/bear_river/bearrivshp/brfromhuc12.shp')\n",
    "smap_ssm_tensor = glob.glob('../smap_files/smap_ssm_ee/tifs/*.tif')\n",
    "for idx,raster in enumerate(smap_ssm_tensor):\n",
    "    clip2(raster,basin,'bear_river')\n",
    "delete = glob.glob('bear_river_ssm/*.nc')\n",
    "for i in delete:\n",
    "    os.remove(i)\n",
    "move = glob.glob('bear_river_ssm/metadata/*.nc')\n",
    "for i in move:\n",
    "    shutil.move(i,'bear_river_ssm/')\n",
    "os.rmdir('bear_river_ssm/metadata')"
   ]
  },
  {
   "cell_type": "code",
   "execution_count": 11,
   "id": "framed-southeast",
   "metadata": {},
   "outputs": [
    {
     "data": {
      "text/plain": [
       "'20150402_20150404'"
      ]
     },
     "execution_count": 11,
     "metadata": {},
     "output_type": "execute_result"
    }
   ],
   "source": [
    "# smap_ssm_tensor = glob.glob('../smap_files/smap_ssm_ee/tifs/*.tif')\n",
    "# smap_ssm_tensor[0][48:65] ### in case one needs to troubleshoot the naming structure of clip2\n",
    "# basin = geopandas.read_file('yukonshp/11573.shp')\n",
    "\n",
    "# clip2(smap_ssm_tensor[0],basin,'yukon');\n",
    "\n",
    "# clipped_ssm = xr.open_dataset('smap_ee_yukon_ssm/metadata/yukon_20150402_20150404.nc')\n",
    "# clipped_ssm\n",
    "\n",
    "# plt.imshow(np.where((clipped_ssm.ssm>0) & (clipped_ssm.ssm<25.36) == True,clipped_ssm.ssm,np.nan)[0])\n",
    "# plt.colorbar()"
   ]
  },
  {
   "cell_type": "code",
   "execution_count": 53,
   "id": "desperate-convenience",
   "metadata": {},
   "outputs": [
    {
     "name": "stdout",
     "output_type": "stream",
     "text": [
      "841\n",
      "torch.Size([841, 1, 22, 13])\n",
      "bear_river images shape torch.Size([841, 1, 22, 13])\n"
     ]
    }
   ],
   "source": [
    "import torch\n",
    "import time\n",
    "\n",
    "def nc2torch(i):\n",
    "    return torch.from_numpy(np.asarray(i)).unsqueeze(0)\n",
    "\n",
    "# m = xr.open_dataset('smap_ee_miss_smp_metadata/miss_20190505_20190507.nc')\n",
    "# w = xr.open_dataset('smap_ee_miss_smp_metadata/miss_20150402_20150404.nc')\n",
    "# m1 = nc2torch(m.sm_profile)\n",
    "# w1 = nc2torch(w.sm_profile)\n",
    "\n",
    "x = glob.glob(f'{basinname}_ssm/*.nc')\n",
    "print(len(x))\n",
    "xx = xr.open_dataset(x[0])\n",
    "\n",
    "# y = torch.load('ct_streamz.pt')\n",
    "# print(y.shape)\n",
    "\n",
    "dset = torch.empty([0,1,xx.y.shape[0],xx.x.shape[0]])\n",
    "t2 = []\n",
    "\n",
    "for x in sorted(glob.glob(f'{basinname}_ssm/*.nc')):\n",
    "    t0 = time.time()\n",
    "    y = xr.open_dataset(x)\n",
    "    z = nc2torch(y.ssm)\n",
    "    dset = torch.cat((dset,z))\n",
    "    t1 = time.time()\n",
    "    t2.append(t1-t0)\n",
    "#     break\n",
    "print(dset.shape)\n",
    "\n",
    "torch.save(dset,f'{basinname}_ssm_imz.pt')\n",
    "\n",
    "x = torch.load(f'{basinname}_ssm_imz.pt')\n",
    "print(f'{basinname} images shape',x.shape)"
   ]
  },
  {
   "cell_type": "code",
   "execution_count": 54,
   "id": "distinguished-buffalo",
   "metadata": {},
   "outputs": [
    {
     "data": {
      "image/png": "[encoded data removed]",
      "text/plain": [
       "<Figure size 432x288 with 2 Axes>"
      ]
     },
     "metadata": {
      "needs_background": "light"
     },
     "output_type": "display_data"
    },
    {
     "data": {
      "image/png": "[encoded data removed]",
      "text/plain": [
       "<Figure size 432x288 with 1 Axes>"
      ]
     },
     "metadata": {
      "needs_background": "light"
     },
     "output_type": "display_data"
    },
    {
     "data": {
      "image/png": "[encoded data removed]",
      "text/plain": [
       "<Figure size 432x288 with 1 Axes>"
      ]
     },
     "metadata": {
      "needs_background": "light"
     },
     "output_type": "display_data"
    }
   ],
   "source": [
    "##plots sample\n",
    "##of course you can look at all of them, create animation, etc from this point, too.\n",
    "\n",
    "clipped_ssm = xr.open_dataset('bear_river_ssm/bear_river_20150402_20150404.nc')\n",
    "clipped_ssm\n",
    "\n",
    "import matplotlib.pyplot as plt\n",
    "\n",
    "import cartopy.crs as ccrs\n",
    "import cartopy.feature as cfeature\n",
    "\n",
    "lat,lon = np.meshgrid(clipped_ssm.y,clipped_ssm.x,indexing='ij')\n",
    "ssm = np.where((clipped_ssm.ssm>0) & (clipped_ssm.ssm<25.36) == True,clipped_ssm.ssm,np.nan)[0]\n",
    "\n",
    "plt.figure()\n",
    "plt.imshow(ssm)\n",
    "plt.colorbar()\n",
    "\n",
    "plt.figure()\n",
    "plt.hist(ssm.reshape(-1),bins=50,color='purple')\n",
    "\n",
    "def main():\n",
    "    fig = plt.figure()\n",
    "    ax = fig.add_subplot(1, 1, 1, projection=ccrs.PlateCarree())\n",
    "\n",
    "    # make the map global rather than have it zoom in to\n",
    "    # the extents of any plotted data\n",
    "    ax.set_extent([-115, -110, 40, 45], crs=ccrs.PlateCarree())\n",
    "#     ax.stock_img()\n",
    "    ax.coastlines()\n",
    "    ax.add_feature(cfeature.STATES)\n",
    "    ax.pcolormesh(lon,lat,ssm)\n",
    "\n",
    "    plt.show()\n",
    "\n",
    "\n",
    "if __name__ == '__main__':\n",
    "    main()"
   ]
  },
  {
   "cell_type": "code",
   "execution_count": 56,
   "id": "defensive-gates",
   "metadata": {},
   "outputs": [
    {
     "name": "stdout",
     "output_type": "stream",
     "text": [
      "number of lines in text file (2645,)\n",
      "['USGS' '10039500' '2015-01-01' '125' 'A:e\\n'] \n",
      " ['USGS' '10039500' '2022-02-26' 'Ice' 'P\\n']\n",
      "+1 empty, replaced with -12345678\n",
      "+1 empty, replaced with -12345678\n",
      "+1 empty, replaced with -12345678\n",
      "+1 empty, replaced with -12345678\n",
      "+1 empty, replaced with -12345678\n",
      "+1 empty, replaced with -12345678\n",
      "+1 empty, replaced with -12345678\n",
      "+1 empty, replaced with -12345678\n",
      "+1 empty, replaced with -12345678\n",
      "+1 empty, replaced with -12345678\n",
      "+1 empty, replaced with -12345678\n",
      "+1 empty, replaced with -12345678\n",
      "+1 empty, replaced with -12345678\n",
      "+1 empty, replaced with -12345678\n",
      "+1 empty, replaced with -12345678\n",
      "+1 empty, replaced with -12345678\n",
      "+1 empty, replaced with -12345678\n",
      "+1 empty, replaced with -12345678\n",
      "+1 empty, replaced with -12345678\n",
      "+1 empty, replaced with -12345678\n",
      "+1 empty, replaced with -12345678\n",
      "+1 empty, replaced with -12345678\n",
      "+1 empty, replaced with -12345678\n",
      "+1 empty, replaced with -12345678\n",
      "+1 empty, replaced with -12345678\n",
      "+1 empty, replaced with -12345678\n",
      "+1 empty, replaced with -12345678\n",
      "+1 empty, replaced with -12345678\n",
      "+1 empty, replaced with -12345678\n",
      "+1 empty, replaced with -12345678\n",
      "+1 empty, replaced with -12345678\n",
      "+1 empty, replaced with -12345678\n",
      "+1 empty, replaced with -12345678\n",
      "+1 empty, replaced with -12345678\n",
      "+1 empty, replaced with -12345678\n",
      "+1 empty, replaced with -12345678\n",
      "+1 empty, replaced with -12345678\n",
      "+1 empty, replaced with -12345678\n",
      "+1 empty, replaced with -12345678\n",
      "+1 empty, replaced with -12345678\n",
      "+1 empty, replaced with -12345678\n",
      "+1 empty, replaced with -12345678\n",
      "+1 empty, replaced with -12345678\n",
      "+1 empty, replaced with -12345678\n",
      "+1 empty, replaced with -12345678\n",
      "+1 empty, replaced with -12345678\n",
      "+1 empty, replaced with -12345678\n",
      "+1 empty, replaced with -12345678\n",
      "+1 empty, replaced with -12345678\n",
      "+1 empty, replaced with -12345678\n",
      "+1 empty, replaced with -12345678\n",
      "+1 empty, replaced with -12345678\n",
      "+1 empty, replaced with -12345678\n",
      "+1 empty, replaced with -12345678\n",
      "+1 empty, replaced with -12345678\n",
      "+1 empty, replaced with -12345678\n",
      "+1 empty, replaced with -12345678\n",
      "+1 empty, replaced with -12345678\n",
      "+1 empty, replaced with -12345678\n",
      "+1 empty, replaced with -12345678\n",
      "+1 empty, replaced with -12345678\n",
      "+1 empty, replaced with -12345678\n",
      "+1 empty, replaced with -12345678\n",
      "+1 empty, replaced with -12345678\n",
      "+1 empty, replaced with -12345678\n",
      "+1 empty, replaced with -12345678\n",
      "+1 empty, replaced with -12345678\n",
      "+1 empty, replaced with -12345678\n",
      "['2015-04-02_2015-04-04' '174.33333']\n",
      "CHECKPOINT!\n"
     ]
    }
   ],
   "source": [
    "import torch\n",
    "import numpy as np\n",
    "\n",
    "# https://nwis.waterdata.usgs.gov/nwis/dv?cb_00060=on&format=rdb&site_no=09429600&referred_module=sw&period=&begin_date=2015-01-01&end_date=2022-02-26\n",
    "\n",
    "\n",
    "y = []\n",
    "with open(f'{basinname}_streamz.txt','r') as f:\n",
    "    for x in f:\n",
    "        y.append(x)\n",
    "y = np.asarray(y)\n",
    "print('number of lines in text file',y.shape)\n",
    "\n",
    "streamflows = y[31:] #gets rid of meta data \n",
    "z = []\n",
    "for idx,x in enumerate(streamflows):\n",
    "    y = x.split('\\t')\n",
    "    z.append(y)\n",
    "\n",
    "z = np.asarray(z)\n",
    "a = np.expand_dims(np.asarray(['Gov Ent','Gage ID','Acq Date','cubic ft/s','unknown']),0)\n",
    "b = np.vstack((a,z))\n",
    "# b = b[:-5] #gets rid of dates we don't want\n",
    "print(b[1],'\\n',b[-1])\n",
    "c = b[1:,3]\n",
    "d = np.empty((0))\n",
    "for x in c:\n",
    "    try:\n",
    "        d = np.append(d,float(x))\n",
    "    except:\n",
    "        print('+1 empty, replaced with -12345678')\n",
    "        d = np.append(d,-12345678)\n",
    "\n",
    "\n",
    "x = torch.Tensor([.333,.333,.333]).float()\n",
    "x = x.unsqueeze(0).unsqueeze(0).unsqueeze(0)\n",
    "y = torch.from_numpy(d).float().unsqueeze(0).unsqueeze(0).unsqueeze(0)\n",
    "\n",
    "kernel_height = 1\n",
    "kernel_width = 3\n",
    "unfold = torch.nn.Unfold(kernel_size = (kernel_height,kernel_width),stride=(kernel_height,kernel_width))\n",
    "\n",
    "#using x, you can control what range of days you want to start from\n",
    "#y is based off of d which is based off of b\n",
    "#it's streamflow in cubic feet / second\n",
    "X = 91 #91 in this case is just ninety first in list starting in 2015\n",
    "arr_unfold = unfold(y[:,:,:,X:]).permute(2,0,1).reshape(-1,1,kernel_height,kernel_width)\n",
    "streamflow_3day = torch.FloatTensor([torch.mean(x) for x in arr_unfold])\n",
    "\n",
    "#time column for reference\n",
    "c = np.asarray(b[1:,2])\n",
    "streamtime = c.copy()\n",
    "time_idx = torch.arange(X,c.shape[0]).unsqueeze(0).unsqueeze(0).unsqueeze(0).float()\n",
    "\n",
    "time_idx_unfold = unfold(time_idx).permute(2,0,1).reshape(-1,1,kernel_height,kernel_width)\n",
    "dates_of_acquisition = []\n",
    "for idx,x in enumerate(time_idx_unfold):\n",
    "    y = f'{streamtime[int(x[0,0,0])]}_{streamtime[int(x[0,0,2])]}'\n",
    "#     print(y)\n",
    "    dates_of_acquisition.append(y)\n",
    "#     print(streamtime[int(x[0,0,0])],'_',streamtime[int(x[0,0,2])])\n",
    "\n",
    "streamflow_ship = np.transpose(np.vstack((np.expand_dims(dates_of_acquisition,0),np.expand_dims(streamflow_3day,0))))\n",
    "streamflow_ship_txt = [str(x) for x in streamflow_ship]\n",
    "print(streamflow_ship_txt[0])\n",
    "# for idx,x in enumerate(streamflow_ship):\n",
    "#     print(idx,x)\n",
    "    \n",
    "txt_file = open(f\"streamflow_3day_{basinname}_for_neuralnet.txt\",\"w\")\n",
    "for idx,x in enumerate(streamflow_ship_txt):\n",
    "    txt_file.write(f'{idx} {x} \\n')\n",
    "txt_file.close()\n",
    "print('CHECKPOINT!')\n",
    "\n",
    "streamz = np.expand_dims(np.float32(streamflow_ship[:,1]),1)\n",
    "streamz_tensor = torch.from_numpy(streamz).unsqueeze(1).unsqueeze(1)\n",
    "torch.save(streamz_tensor,f'{basinname}_streamz.pt')"
   ]
  },
  {
   "cell_type": "code",
   "execution_count": null,
   "id": "binding-uruguay",
   "metadata": {},
   "outputs": [],
   "source": []
  }
 ],
 "metadata": {
  "kernelspec": {
   "display_name": "Python (.conda-sm)",
   "language": "python",
   "name": "conda-env-.conda-sm-py"
  },
  "language_info": {
   "codemirror_mode": {
    "name": "ipython",
    "version": 3
   },
   "file_extension": ".py",
   "mimetype": "text/x-python",
   "name": "python",
   "nbconvert_exporter": "python",
   "pygments_lexer": "ipython3",
   "version": "3.9.12"
  }
 },
 "nbformat": 4,
 "nbformat_minor": 5
}
