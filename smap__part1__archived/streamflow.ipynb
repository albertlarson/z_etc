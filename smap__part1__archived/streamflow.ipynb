{
 "cells": [
  {
   "cell_type": "code",
   "execution_count": 2,
   "id": "occupational-improvement",
   "metadata": {},
   "outputs": [
    {
     "name": "stdout",
     "output_type": "stream",
     "text": [
      "# ---------------------------------- WARNING ----------------------------------------\n",
      "\n"
     ]
    }
   ],
   "source": [
    "\n",
    "    print(f.readline())"
   ]
  },
  {
   "cell_type": "code",
   "execution_count": 117,
   "id": "subjective-cannon",
   "metadata": {},
   "outputs": [],
   "source": [
    "import numpy as np"
   ]
  },
  {
   "cell_type": "code",
   "execution_count": 273,
   "id": "owned-shell",
   "metadata": {},
   "outputs": [
    {
     "name": "stdout",
     "output_type": "stream",
     "text": [
      "(2650,)\n"
     ]
    }
   ],
   "source": []
  },
  {
   "cell_type": "code",
   "execution_count": 274,
   "id": "equivalent-adelaide",
   "metadata": {},
   "outputs": [],
   "source": [
    "# for a in y:\n",
    "#     print(a)"
   ]
  },
  {
   "cell_type": "code",
   "execution_count": 275,
   "id": "impaired-opinion",
   "metadata": {},
   "outputs": [],
   "source": [
    "# for idx,x in enumerate(y):\n",
    "#     print(idx,x)\n"
   ]
  },
  {
   "cell_type": "code",
   "execution_count": 276,
   "id": "rolled-frederick",
   "metadata": {},
   "outputs": [
    {
     "data": {
      "text/plain": [
       "(2618, 5)"
      ]
     },
     "execution_count": 276,
     "metadata": {},
     "output_type": "execute_result"
    }
   ],
   "source": [
    "\n",
    "z.shape"
   ]
  },
  {
   "cell_type": "code",
   "execution_count": 31,
   "id": "minus-fellow",
   "metadata": {},
   "outputs": [
    {
     "data": {
      "text/plain": [
       "array([['USGS', '07374000', '2015-01-01', '345000', 'A\\n'],\n",
       "       ['USGS', '07374000', '2015-01-02', '353000', 'A\\n'],\n",
       "       ['USGS', '07374000', '2015-01-03', '364000', 'A\\n'],\n",
       "       ...,\n",
       "       ['USGS', '07374000', '2022-03-01', '704000', 'P\\n'],\n",
       "       ['USGS', '07374000', '2022-03-02', '729000', 'P\\n'],\n",
       "       ['USGS', '07374000', '2022-03-03', '753000', 'P\\n']], dtype='<U10')"
      ]
     },
     "execution_count": 31,
     "metadata": {},
     "output_type": "execute_result"
    }
   ],
   "source": [
    "z"
   ]
  },
  {
   "cell_type": "code",
   "execution_count": 277,
   "id": "large-password",
   "metadata": {},
   "outputs": [
    {
     "data": {
      "text/plain": [
       "(1, 5)"
      ]
     },
     "execution_count": 277,
     "metadata": {},
     "output_type": "execute_result"
    }
   ],
   "source": [
    "a.shape"
   ]
  },
  {
   "cell_type": "code",
   "execution_count": 292,
   "id": "central-report",
   "metadata": {},
   "outputs": [
    {
     "data": {
      "text/plain": [
       "(2619, 5)"
      ]
     },
     "execution_count": 292,
     "metadata": {},
     "output_type": "execute_result"
    }
   ],
   "source": [
    "\n",
    "b.shape"
   ]
  },
  {
   "cell_type": "code",
   "execution_count": 279,
   "id": "atlantic-trading",
   "metadata": {},
   "outputs": [
    {
     "data": {
      "text/plain": [
       "(1, 5)"
      ]
     },
     "execution_count": 279,
     "metadata": {},
     "output_type": "execute_result"
    }
   ],
   "source": [
    "a.shape"
   ]
  },
  {
   "cell_type": "code",
   "execution_count": 280,
   "id": "swiss-convergence",
   "metadata": {},
   "outputs": [
    {
     "data": {
      "text/plain": [
       "array(['Gov Ent', 'Gage ID', 'Acq Date', 'cubic ft/s', 'unknown'],\n",
       "      dtype='<U10')"
      ]
     },
     "execution_count": 280,
     "metadata": {},
     "output_type": "execute_result"
    }
   ],
   "source": [
    "b[0]"
   ]
  },
  {
   "cell_type": "code",
   "execution_count": 293,
   "id": "headed-jamaica",
   "metadata": {},
   "outputs": [
    {
     "data": {
      "text/plain": [
       "array([['USGS', '07374000', '2022-02-22', '572000', 'P\\n'],\n",
       "       ['USGS', '07374000', '2022-02-23', '567000', 'P\\n'],\n",
       "       ['USGS', '07374000', '2022-02-24', '571000', 'P\\n'],\n",
       "       ['USGS', '07374000', '2022-02-25', '589000', 'P\\n'],\n",
       "       ['USGS', '07374000', '2022-02-26', '615000', 'P\\n']], dtype='<U10')"
      ]
     },
     "execution_count": 293,
     "metadata": {},
     "output_type": "execute_result"
    }
   ],
   "source": [
    "\n",
    "\n",
    "b[-5:]"
   ]
  },
  {
   "cell_type": "code",
   "execution_count": 294,
   "id": "narrow-bench",
   "metadata": {},
   "outputs": [
    {
     "data": {
      "text/plain": [
       "array(['345000', '353000', '364000', ..., '571000', '589000', '615000'],\n",
       "      dtype='<U10')"
      ]
     },
     "execution_count": 294,
     "metadata": {},
     "output_type": "execute_result"
    }
   ],
   "source": [
    "\n",
    "c"
   ]
  },
  {
   "cell_type": "code",
   "execution_count": 295,
   "id": "alive-dublin",
   "metadata": {},
   "outputs": [
    {
     "name": "stdout",
     "output_type": "stream",
     "text": [
      "error\n"
     ]
    },
    {
     "data": {
      "text/plain": [
       "(2614,)"
      ]
     },
     "execution_count": 295,
     "metadata": {},
     "output_type": "execute_result"
    }
   ],
   "source": []
  },
  {
   "cell_type": "code",
   "execution_count": 296,
   "id": "cubic-queens",
   "metadata": {},
   "outputs": [
    {
     "name": "stdout",
     "output_type": "stream",
     "text": [
      "2614\n"
     ]
    }
   ],
   "source": [
    "print(len(c))"
   ]
  },
  {
   "cell_type": "code",
   "execution_count": 297,
   "id": "swiss-stationery",
   "metadata": {},
   "outputs": [
    {
     "data": {
      "text/plain": [
       "'615000'"
      ]
     },
     "execution_count": 297,
     "metadata": {},
     "output_type": "execute_result"
    }
   ],
   "source": [
    "c[-1]"
   ]
  },
  {
   "cell_type": "code",
   "execution_count": 298,
   "id": "great-transport",
   "metadata": {},
   "outputs": [
    {
     "data": {
      "text/plain": [
       "array([-12345678.])"
      ]
     },
     "execution_count": 298,
     "metadata": {},
     "output_type": "execute_result"
    }
   ],
   "source": [
    "d[d<0]"
   ]
  },
  {
   "cell_type": "code",
   "execution_count": 303,
   "id": "deluxe-effect",
   "metadata": {},
   "outputs": [],
   "source": []
  },
  {
   "cell_type": "code",
   "execution_count": 304,
   "id": "naughty-interface",
   "metadata": {},
   "outputs": [
    {
     "data": {
      "text/plain": [
       "torch.Size([1, 1, 1, 3])"
      ]
     },
     "execution_count": 304,
     "metadata": {},
     "output_type": "execute_result"
    }
   ],
   "source": []
  },
  {
   "cell_type": "code",
   "execution_count": 315,
   "id": "intimate-theology",
   "metadata": {},
   "outputs": [],
   "source": []
  },
  {
   "cell_type": "code",
   "execution_count": 2,
   "id": "stunning-sacrifice",
   "metadata": {},
   "outputs": [
    {
     "name": "stdout",
     "output_type": "stream",
     "text": [
      "number of lines in text file (2650,)\n",
      "['USGS' '07374000' '2015-01-01' '345000' 'A\\n'] \n",
      " ['USGS' '07374000' '2022-02-26' '615000' 'P\\n']\n",
      "+1 empty, replaced with -12345678\n",
      "['2015-04-02_2015-04-04' '1020000.0']\n",
      "CHECKPOINT!\n"
     ]
    }
   ],
   "source": [
    "import torch\n",
    "import numpy as np\n",
    "\n",
    "# https://nwis.waterdata.usgs.gov/nwis/dv?cb_00060=on&format=rdb&site_no=07374000&referred_module=sw&period=&begin_date=2015-01-01&end_date=2022-03-03\n",
    "\n",
    "y = []\n",
    "with open('streamflowmiss.txt','r') as f:\n",
    "    for x in f:\n",
    "        y.append(x)\n",
    "y = np.asarray(y)\n",
    "print('number of lines in text file',y.shape)\n",
    "\n",
    "streamflows = y[31:] #gets rid of meta data \n",
    "z = []\n",
    "for idx,x in enumerate(streamflows):\n",
    "    y = x.split('\\t')\n",
    "    z.append(y)\n",
    "\n",
    "z = np.asarray(z)\n",
    "a = np.expand_dims(np.asarray(['Gov Ent','Gage ID','Acq Date','cubic ft/s','unknown']),0)\n",
    "b = np.vstack((a,z))\n",
    "b = b[:-5] #gets rid of dates we don't want\n",
    "print(b[1],'\\n',b[-1])\n",
    "c = b[1:,3]\n",
    "d = np.empty((0))\n",
    "for x in c:\n",
    "    try:\n",
    "        d = np.append(d,int(x))\n",
    "    except:\n",
    "        print('+1 empty, replaced with -12345678')\n",
    "        d = np.append(d,-12345678)\n",
    "\n",
    "\n",
    "x = torch.Tensor([.333,.333,.333]).float()\n",
    "x = x.unsqueeze(0).unsqueeze(0).unsqueeze(0)\n",
    "y = torch.from_numpy(d).float().unsqueeze(0).unsqueeze(0).unsqueeze(0)\n",
    "\n",
    "kernel_height = 1\n",
    "kernel_width = 3\n",
    "unfold = torch.nn.Unfold(kernel_size = (kernel_height,kernel_width),stride=(kernel_height,kernel_width))\n",
    "\n",
    "#using x, you can control what range of days you want to start from\n",
    "#y is based off of d which is based off of b\n",
    "#it's streamflow in cubic feet / second\n",
    "X = 91 #91 in this case is just ninety first in list starting in 2015\n",
    "arr_unfold = unfold(y[:,:,:,X:]).permute(2,0,1).reshape(-1,1,kernel_height,kernel_width)\n",
    "streamflow_3day = torch.FloatTensor([torch.mean(x) for x in arr_unfold])\n",
    "\n",
    "#time column for reference\n",
    "c = np.asarray(b[1:,2])\n",
    "streamtime = c.copy()\n",
    "time_idx = torch.arange(X,c.shape[0]).unsqueeze(0).unsqueeze(0).unsqueeze(0).float()\n",
    "\n",
    "time_idx_unfold = unfold(time_idx).permute(2,0,1).reshape(-1,1,kernel_height,kernel_width)\n",
    "dates_of_acquisition = []\n",
    "for idx,x in enumerate(time_idx_unfold):\n",
    "    y = f'{streamtime[int(x[0,0,0])]}_{streamtime[int(x[0,0,2])]}'\n",
    "#     print(y)\n",
    "    dates_of_acquisition.append(y)\n",
    "#     print(streamtime[int(x[0,0,0])],'_',streamtime[int(x[0,0,2])])\n",
    "\n",
    "streamflow_ship = np.transpose(np.vstack((np.expand_dims(dates_of_acquisition,0),np.expand_dims(streamflow_3day,0))))\n",
    "streamflow_ship_txt = [str(x) for x in streamflow_ship]\n",
    "print(streamflow_ship_txt[0])\n",
    "# for idx,x in enumerate(streamflow_ship):\n",
    "#     print(idx,x)\n",
    "    \n",
    "txt_file = open(\"streamflow_3day_mississippi_for_neuralnet.txt\",\"w\")\n",
    "for idx,x in enumerate(streamflow_ship_txt):\n",
    "    txt_file.write(f'{idx} {x} \\n')\n",
    "txt_file.close()\n",
    "print('CHECKPOINT!')"
   ]
  },
  {
   "cell_type": "code",
   "execution_count": 29,
   "id": "capital-affiliation",
   "metadata": {},
   "outputs": [],
   "source": [
    "streamz = np.expand_dims(np.float32(streamflow_ship[:,1]),1)"
   ]
  },
  {
   "cell_type": "code",
   "execution_count": 30,
   "id": "concerned-eight",
   "metadata": {},
   "outputs": [
    {
     "data": {
      "text/plain": [
       "(841, 1)"
      ]
     },
     "execution_count": 30,
     "metadata": {},
     "output_type": "execute_result"
    }
   ],
   "source": [
    "streamz.shape"
   ]
  },
  {
   "cell_type": "code",
   "execution_count": 37,
   "id": "hindu-swiss",
   "metadata": {},
   "outputs": [],
   "source": [
    "streamz_tensor = torch.from_numpy(streamz).unsqueeze(1).unsqueeze(1)\n",
    "torch.save(streamz_tensor,'streamz.pt')"
   ]
  },
  {
   "cell_type": "code",
   "execution_count": 39,
   "id": "sensitive-factory",
   "metadata": {},
   "outputs": [
    {
     "data": {
      "text/plain": [
       "torch.Size([841, 1, 1, 1])"
      ]
     },
     "execution_count": 39,
     "metadata": {},
     "output_type": "execute_result"
    }
   ],
   "source": [
    "streamz_tensor.shape"
   ]
  },
  {
   "cell_type": "code",
   "execution_count": 40,
   "id": "cosmetic-observation",
   "metadata": {},
   "outputs": [
    {
     "data": {
      "text/plain": [
       "tensor([[[1020000.]]])"
      ]
     },
     "execution_count": 40,
     "metadata": {},
     "output_type": "execute_result"
    }
   ],
   "source": [
    "streamz_tensor[0]"
   ]
  },
  {
   "cell_type": "code",
   "execution_count": null,
   "id": "flying-differential",
   "metadata": {},
   "outputs": [],
   "source": []
  }
 ],
 "metadata": {
  "kernelspec": {
   "display_name": "Python (.conda-sm)",
   "language": "python",
   "name": "conda-env-.conda-sm-py"
  },
  "language_info": {
   "codemirror_mode": {
    "name": "ipython",
    "version": 3
   },
   "file_extension": ".py",
   "mimetype": "text/x-python",
   "name": "python",
   "nbconvert_exporter": "python",
   "pygments_lexer": "ipython3",
   "version": "3.9.12"
  }
 },
 "nbformat": 4,
 "nbformat_minor": 5
}
